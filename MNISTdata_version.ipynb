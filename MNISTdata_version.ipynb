{
 "cells": [
  {
   "cell_type": "code",
   "execution_count": 1,
   "metadata": {},
   "outputs": [
    {
     "data": {
      "text/html": [
       "<style>.container { width:100% ! important; }</style>"
      ],
      "text/plain": [
       "<IPython.core.display.HTML object>"
      ]
     },
     "metadata": {},
     "output_type": "display_data"
    }
   ],
   "source": [
    "from IPython.display import display\n",
    "from IPython.core.display import HTML\n",
    "display(HTML(\"<style>.container { width:100% ! important; }</style>\"))\n",
    "\n",
    "import numpy as np\n",
    "import gzip\n",
    "from six.moves import cPickle\n",
    "from scipy import ndimage\n",
    "import matplotlib.pyplot as plt "
   ]
  },
  {
   "cell_type": "code",
   "execution_count": 2,
   "metadata": {},
   "outputs": [],
   "source": [
    "def plot_MNIST(X_i):\n",
    "    Ximag_i = (np.reshape(X_i, (28, 28)) * 255).astype(np.uint8)\n",
    "    plt.figure()\n",
    "    plt.imshow(Ximag_i, interpolation='None', cmap='gray')\n",
    "    plt.xlim(0,28)\n",
    "    plt.ylim(0,28)"
   ]
  },
  {
   "cell_type": "code",
   "execution_count": 3,
   "metadata": {},
   "outputs": [],
   "source": [
    "def rotate_MNIST(X_):\n",
    "    X_imag_ = np.reshape(X_, (-1, 28,28))\n",
    "    X_imag_rotated_ = np.zeros((70000, 28, 28))\n",
    "    \n",
    "    for i in range(70000):\n",
    "        angle = np.random.randint(-45,45)\n",
    "        X_imag_rotated_[i] = ndimage.rotate(X_imag_[i], angle, cval=0, order=0, reshape=False)\n",
    "        \n",
    "    X_rotated_ = np.reshape(X_imag_rotated_, (70000,-1))\n",
    "    \n",
    "    return X_rotated_  "
   ]
  },
  {
   "cell_type": "code",
   "execution_count": 16,
   "metadata": {},
   "outputs": [],
   "source": [
    "def noise_MNIST(X_):    \n",
    "    noise = np.random.uniform(0, 1, size = (70000, 784) )\n",
    "    X_noised_ = X_ + noise\n",
    "    X_noised_ = np.minimum(X_noised_, 1)     \n",
    "    return X_noised_   "
   ]
  },
  {
   "cell_type": "code",
   "execution_count": 5,
   "metadata": {},
   "outputs": [],
   "source": [
    "(x_train, y_train), (x_test, y_test) = cPickle.load(gzip.open('MNIST_dataset/mnist.pkl.gz', 'rb'), encoding=\"bytes\")\n",
    "\n",
    "# normalize data\n",
    "x_train = x_train.astype('float32') / 255\n",
    "x_test = x_test.astype('float32') / 255\n",
    "\n",
    "# flatten data\n",
    "x_train = x_train.reshape((len(x_train), np.prod(x_train.shape[1:])))\n",
    "x_test = x_test.reshape((len(x_test), np.prod(x_test.shape[1:])))\n",
    "\n",
    "# test + train data will be used for unsupervised clusterting\n",
    "X = np.concatenate((x_train,x_test))\n",
    "Y = np.concatenate((y_train,y_test))"
   ]
  },
  {
   "cell_type": "code",
   "execution_count": 14,
   "metadata": {},
   "outputs": [],
   "source": [
    "X_rotated = rotate_MNIST(X)\n",
    "X_noised = noise_MNIST(X)"
   ]
  },
  {
   "cell_type": "code",
   "execution_count": 15,
   "metadata": {},
   "outputs": [
    {
     "data": {
      "image/png": "[encoded data removed]",
      "text/plain": [
       "<Figure size 432x288 with 1 Axes>"
      ]
     },
     "metadata": {},
     "output_type": "display_data"
    },
    {
     "data": {
      "image/png": "[encoded data removed]",
      "text/plain": [
       "<Figure size 432x288 with 1 Axes>"
      ]
     },
     "metadata": {},
     "output_type": "display_data"
    },
    {
     "data": {
      "image/png": "[encoded data removed]",
      "text/plain": [
       "<Figure size 432x288 with 1 Axes>"
      ]
     },
     "metadata": {},
     "output_type": "display_data"
    }
   ],
   "source": [
    "plot_MNIST(X[44])\n",
    "plot_MNIST(X_rotated[44])\n",
    "plot_MNIST(X_noised[44])"
   ]
  }
 ],
 "metadata": {
  "kernelspec": {
   "display_name": "Python 3",
   "language": "python",
   "name": "python3"
  },
  "language_info": {
   "codemirror_mode": {
    "name": "ipython",
    "version": 3
   },
   "file_extension": ".py",
   "mimetype": "text/x-python",
   "name": "python",
   "nbconvert_exporter": "python",
   "pygments_lexer": "ipython3",
   "version": "3.6.3"
  }
 },
 "nbformat": 4,
 "nbformat_minor": 2
}
